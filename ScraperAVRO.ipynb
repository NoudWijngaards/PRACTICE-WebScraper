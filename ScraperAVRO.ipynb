{
 "cells": [
  {
   "cell_type": "code",
   "execution_count": 1,
   "outputs": [
    {
     "data": {
      "text/plain": "                                                                                                 link  \\\nDe energiemarkt en salderen: hoe komt de prijsv...  https://radar.avrotros.nl/forum/energie-f51/de...   \nWoningen met verkeerde energielabels, wie heeft...  https://radar.avrotros.nl/forum/energie-f51/wo...   \nslimme meter meet niet altijd correct               https://radar.avrotros.nl/forum/energie-f51/sl...   \nEnergieleverancier kiezen met zonnepanelen          https://radar.avrotros.nl/forum/energie-f51/en...   \nHogere tarieven Vattenfall ontlopen                 https://radar.avrotros.nl/forum/energie-f51/ho...   \n...                                                                                               ...   \nEen energiecontract zonder mijn toestemming?        https://radar.avrotros.nl/forum/energie-f51/ee...   \nVattenfall wil Warmtelink plaatsen voor digitaa...  https://radar.avrotros.nl/forum/energie-f51/va...   \nEnergierekening opsplitsen in Netbeheer en Leve...  https://radar.avrotros.nl/forum/energie-f51/en...   \nFaillisement Energie Welkom: wat kan / mag ik?      https://radar.avrotros.nl/forum/energie-f51/fa...   \nNa failliete Welkom Energie nu de rekening van ...  https://radar.avrotros.nl/forum/energie-f51/na...   \n\n                                                                 date    code  \\\nDe energiemarkt en salderen: hoe komt de prijsv...  22 okt 2021 14:18  197725   \nWoningen met verkeerde energielabels, wie heeft...  13 feb 2023 19:48  200283   \nslimme meter meet niet altijd correct               14 feb 2023 11:37  200287   \nEnergieleverancier kiezen met zonnepanelen          05 jan 2021 16:57  195768   \nHogere tarieven Vattenfall ontlopen                 23 dec 2022 16:42  199987   \n...                                                               ...     ...   \nEen energiecontract zonder mijn toestemming?        09 mei 2022 17:04  198866   \nVattenfall wil Warmtelink plaatsen voor digitaa...  02 jun 2021 17:18  196961   \nEnergierekening opsplitsen in Netbeheer en Leve...  03 mar 2022 09:41  198540   \nFaillisement Energie Welkom: wat kan / mag ik?      15 nov 2021 09:41  197882   \nNa failliete Welkom Energie nu de rekening van ...  17 dec 2021 13:29  198056   \n\n                                                    reactions  \nDe energiemarkt en salderen: hoe komt de prijsv...         48  \nWoningen met verkeerde energielabels, wie heeft...         36  \nslimme meter meet niet altijd correct                       3  \nEnergieleverancier kiezen met zonnepanelen                100  \nHogere tarieven Vattenfall ontlopen                         9  \n...                                                       ...  \nEen energiecontract zonder mijn toestemming?                6  \nVattenfall wil Warmtelink plaatsen voor digitaa...         47  \nEnergierekening opsplitsen in Netbeheer en Leve...         17  \nFaillisement Energie Welkom: wat kan / mag ik?             31  \nNa failliete Welkom Energie nu de rekening van ...        176  \n\n[100 rows x 4 columns]",
      "text/html": "<div>\n<style scoped>\n    .dataframe tbody tr th:only-of-type {\n        vertical-align: middle;\n    }\n\n    .dataframe tbody tr th {\n        vertical-align: top;\n    }\n\n    .dataframe thead th {\n        text-align: right;\n    }\n</style>\n<table border=\"1\" class=\"dataframe\">\n  <thead>\n    <tr style=\"text-align: right;\">\n      <th></th>\n      <th>link</th>\n      <th>date</th>\n      <th>code</th>\n      <th>reactions</th>\n    </tr>\n  </thead>\n  <tbody>\n    <tr>\n      <th>De energiemarkt en salderen: hoe komt de prijsvorming tot stand?</th>\n      <td>https://radar.avrotros.nl/forum/energie-f51/de...</td>\n      <td>22 okt 2021 14:18</td>\n      <td>197725</td>\n      <td>48</td>\n    </tr>\n    <tr>\n      <th>Woningen met verkeerde energielabels, wie heeft daar ervaring mee?</th>\n      <td>https://radar.avrotros.nl/forum/energie-f51/wo...</td>\n      <td>13 feb 2023 19:48</td>\n      <td>200283</td>\n      <td>36</td>\n    </tr>\n    <tr>\n      <th>slimme meter meet niet altijd correct</th>\n      <td>https://radar.avrotros.nl/forum/energie-f51/sl...</td>\n      <td>14 feb 2023 11:37</td>\n      <td>200287</td>\n      <td>3</td>\n    </tr>\n    <tr>\n      <th>Energieleverancier kiezen met zonnepanelen</th>\n      <td>https://radar.avrotros.nl/forum/energie-f51/en...</td>\n      <td>05 jan 2021 16:57</td>\n      <td>195768</td>\n      <td>100</td>\n    </tr>\n    <tr>\n      <th>Hogere tarieven Vattenfall ontlopen</th>\n      <td>https://radar.avrotros.nl/forum/energie-f51/ho...</td>\n      <td>23 dec 2022 16:42</td>\n      <td>199987</td>\n      <td>9</td>\n    </tr>\n    <tr>\n      <th>...</th>\n      <td>...</td>\n      <td>...</td>\n      <td>...</td>\n      <td>...</td>\n    </tr>\n    <tr>\n      <th>Een energiecontract zonder mijn toestemming?</th>\n      <td>https://radar.avrotros.nl/forum/energie-f51/ee...</td>\n      <td>09 mei 2022 17:04</td>\n      <td>198866</td>\n      <td>6</td>\n    </tr>\n    <tr>\n      <th>Vattenfall wil Warmtelink plaatsen voor digitaal uitlezen verbruik</th>\n      <td>https://radar.avrotros.nl/forum/energie-f51/va...</td>\n      <td>02 jun 2021 17:18</td>\n      <td>196961</td>\n      <td>47</td>\n    </tr>\n    <tr>\n      <th>Energierekening opsplitsen in Netbeheer en Levering</th>\n      <td>https://radar.avrotros.nl/forum/energie-f51/en...</td>\n      <td>03 mar 2022 09:41</td>\n      <td>198540</td>\n      <td>17</td>\n    </tr>\n    <tr>\n      <th>Faillisement Energie Welkom: wat kan / mag ik?</th>\n      <td>https://radar.avrotros.nl/forum/energie-f51/fa...</td>\n      <td>15 nov 2021 09:41</td>\n      <td>197882</td>\n      <td>31</td>\n    </tr>\n    <tr>\n      <th>Na failliete Welkom Energie nu de rekening van Eneco voor november, wat nu?</th>\n      <td>https://radar.avrotros.nl/forum/energie-f51/na...</td>\n      <td>17 dec 2021 13:29</td>\n      <td>198056</td>\n      <td>176</td>\n    </tr>\n  </tbody>\n</table>\n<p>100 rows × 4 columns</p>\n</div>"
     },
     "execution_count": 1,
     "metadata": {},
     "output_type": "execute_result"
    }
   ],
   "source": [
    "from bs4 import BeautifulSoup\n",
    "import requests\n",
    "import re\n",
    "\n",
    "# Web scraping from the radar AvroTros website\n",
    "search_link = \"https://radar.avrotros.nl/forum/energie-f51/index-s\"\n",
    "\n",
    "forum_url = BeautifulSoup(requests.get(search_link).content, 'html.parser')\n",
    "\n",
    "page_index = 0\n",
    "\n",
    "dict_topics = {}\n",
    "\n",
    "for i in range(0, 100, 25):\n",
    "    page_index = i\n",
    "\n",
    "    forum_url = BeautifulSoup(requests.get(search_link + str(page_index) + '.html').content, 'html.parser')\n",
    "\n",
    "    items = forum_url.find_all(class_=lambda x: x and x.startswith(\"row bg\"))\n",
    "\n",
    "    for item in items:\n",
    "        title = item.find('a', class_='topictitle')\n",
    "        topic_title = title.text\n",
    "\n",
    "        topic_link = \"https://radar.avrotros.nl/forum\" + \"/\" + title['href'].lstrip('./..').split('.html')[0] + '.html'\n",
    "\n",
    "        date_element = item.find(\"div\", class_=\"topic-poster responsive-hide left-box\").find(\"time\")\n",
    "        date = date_element.text\n",
    "\n",
    "        code_link = topic_link[-11:]\n",
    "        code = code_link[:6]\n",
    "\n",
    "        reactions_element = item.find(\"dd\", class_=\"posts\")\n",
    "        reactions = reactions_element.text\n",
    "        # Remove the 'Reacties' text\n",
    "        reactions = reactions[:-9]\n",
    "        reactions = int(reactions)\n",
    "\n",
    "        dict_topics[topic_title] = topic_link, date, code, reactions\n",
    "\n",
    "# Convert dict to dataframe\n",
    "import pandas as pd\n",
    "\n",
    "df_topics = pd.DataFrame.from_dict(dict_topics, orient='index', columns=['link', 'date', 'code', 'reactions'])\n",
    "\n",
    "df_topics"
   ],
   "metadata": {
    "collapsed": false
   }
  },
  {
   "cell_type": "code",
   "execution_count": 2,
   "outputs": [
    {
     "name": "stdout",
     "output_type": "stream",
     "text": [
      "https://radar.avrotros.nl/forum/viewtopic.php?t=197725&start=0\n",
      "https://radar.avrotros.nl/forum/viewtopic.php?t=197725&start=20\n",
      "https://radar.avrotros.nl/forum/viewtopic.php?t=197725&start=40\n",
      "https://radar.avrotros.nl/forum/viewtopic.php?t=200283&start=0\n",
      "https://radar.avrotros.nl/forum/viewtopic.php?t=200283&start=20\n",
      "2021-10-22 14:32:00\n"
     ]
    },
    {
     "data": {
      "text/plain": "                                                topic  \\\n1   De energiemarkt en salderen: hoe komt de prijs...   \n2   De energiemarkt en salderen: hoe komt de prijs...   \n3   De energiemarkt en salderen: hoe komt de prijs...   \n4   De energiemarkt en salderen: hoe komt de prijs...   \n5   De energiemarkt en salderen: hoe komt de prijs...   \n..                                                ...   \n82  Woningen met verkeerde energielabels, wie heef...   \n83  Woningen met verkeerde energielabels, wie heef...   \n84  Woningen met verkeerde energielabels, wie heef...   \n85  Woningen met verkeerde energielabels, wie heef...   \n86  Woningen met verkeerde energielabels, wie heef...   \n\n                                              content                date  \n1   Goedendag,In navolging van het inmiddels geslo... 2021-10-22 14:18:00  \n2   3.U verbruikt en produceert stroomDezelfde pri... 2021-10-22 14:52:00  \n3                              Heel leerzaam artikel. 2021-10-22 17:23:00  \n4                    Dank voor de uitgebreide uitleg. 2021-10-22 17:57:00  \n5   Ik heb de mods gevraagd dit topic sticky te ma... 2021-10-22 18:11:00  \n..                                                ...                 ...  \n82  Zit er een kras op uw plaat? Kom dan eens met ... 2023-02-15 08:55:00  \n83  Dan heb je er dus niks aan. Niet om de hoogte ... 2023-02-15 09:07:00  \n84  Voor mij is dat duidelijk uit de bijdragen te ... 2023-02-15 09:13:00  \n85  @MM, de persoon waar ik op reageerde (Jurrien)... 2023-02-15 10:30:00  \n86  Oude energielabels was juist zeer fraude gevoe... 2023-02-15 11:20:00  \n\n[86 rows x 3 columns]",
      "text/html": "<div>\n<style scoped>\n    .dataframe tbody tr th:only-of-type {\n        vertical-align: middle;\n    }\n\n    .dataframe tbody tr th {\n        vertical-align: top;\n    }\n\n    .dataframe thead th {\n        text-align: right;\n    }\n</style>\n<table border=\"1\" class=\"dataframe\">\n  <thead>\n    <tr style=\"text-align: right;\">\n      <th></th>\n      <th>topic</th>\n      <th>content</th>\n      <th>date</th>\n    </tr>\n  </thead>\n  <tbody>\n    <tr>\n      <th>1</th>\n      <td>De energiemarkt en salderen: hoe komt de prijs...</td>\n      <td>Goedendag,In navolging van het inmiddels geslo...</td>\n      <td>2021-10-22 14:18:00</td>\n    </tr>\n    <tr>\n      <th>2</th>\n      <td>De energiemarkt en salderen: hoe komt de prijs...</td>\n      <td>3.U verbruikt en produceert stroomDezelfde pri...</td>\n      <td>2021-10-22 14:52:00</td>\n    </tr>\n    <tr>\n      <th>3</th>\n      <td>De energiemarkt en salderen: hoe komt de prijs...</td>\n      <td>Heel leerzaam artikel.</td>\n      <td>2021-10-22 17:23:00</td>\n    </tr>\n    <tr>\n      <th>4</th>\n      <td>De energiemarkt en salderen: hoe komt de prijs...</td>\n      <td>Dank voor de uitgebreide uitleg.</td>\n      <td>2021-10-22 17:57:00</td>\n    </tr>\n    <tr>\n      <th>5</th>\n      <td>De energiemarkt en salderen: hoe komt de prijs...</td>\n      <td>Ik heb de mods gevraagd dit topic sticky te ma...</td>\n      <td>2021-10-22 18:11:00</td>\n    </tr>\n    <tr>\n      <th>...</th>\n      <td>...</td>\n      <td>...</td>\n      <td>...</td>\n    </tr>\n    <tr>\n      <th>82</th>\n      <td>Woningen met verkeerde energielabels, wie heef...</td>\n      <td>Zit er een kras op uw plaat? Kom dan eens met ...</td>\n      <td>2023-02-15 08:55:00</td>\n    </tr>\n    <tr>\n      <th>83</th>\n      <td>Woningen met verkeerde energielabels, wie heef...</td>\n      <td>Dan heb je er dus niks aan. Niet om de hoogte ...</td>\n      <td>2023-02-15 09:07:00</td>\n    </tr>\n    <tr>\n      <th>84</th>\n      <td>Woningen met verkeerde energielabels, wie heef...</td>\n      <td>Voor mij is dat duidelijk uit de bijdragen te ...</td>\n      <td>2023-02-15 09:13:00</td>\n    </tr>\n    <tr>\n      <th>85</th>\n      <td>Woningen met verkeerde energielabels, wie heef...</td>\n      <td>@MM, de persoon waar ik op reageerde (Jurrien)...</td>\n      <td>2023-02-15 10:30:00</td>\n    </tr>\n    <tr>\n      <th>86</th>\n      <td>Woningen met verkeerde energielabels, wie heef...</td>\n      <td>Oude energielabels was juist zeer fraude gevoe...</td>\n      <td>2023-02-15 11:20:00</td>\n    </tr>\n  </tbody>\n</table>\n<p>86 rows × 3 columns</p>\n</div>"
     },
     "execution_count": 2,
     "metadata": {},
     "output_type": "execute_result"
    }
   ],
   "source": [
    "# Get first ten rows within df\n",
    "topics = df_topics.head(2)\n",
    "\n",
    "\n",
    "dict_messages = {}\n",
    "message_id = 1\n",
    "\n",
    "for topic, row in topics.iterrows():\n",
    "    page_index = 0\n",
    "    while True:\n",
    "        if page_index > row['reactions']:\n",
    "            break\n",
    "        page_link = \"https://radar.avrotros.nl/forum/viewtopic.php?t=\" + row['code'] + \"&start=\" + str(page_index)\n",
    "        print(page_link)\n",
    "        page = requests.get(page_link)\n",
    "        if page.status_code != 200:\n",
    "            break\n",
    "        soup = BeautifulSoup(page.content, 'html.parser')\n",
    "        posts = soup.find_all('div', class_=lambda x: x and x.startswith(\"post has-profile bg\"))\n",
    "        for post in posts:\n",
    "            content = post.find(\"div\", class_=\"content\")\n",
    "            # Remove blockquotes to prevent double counting\n",
    "            for blockquote in content.find_all(\"blockquote\"):\n",
    "                blockquote.decompose()\n",
    "            content = content.text\n",
    "\n",
    "            date = post.find('p', class_=\"author\").find('time').text\n",
    "\n",
    "            dict_messages[message_id] = topic, content, date\n",
    "            message_id += 1\n",
    "\n",
    "        page_index += 20\n",
    "\n",
    "\n",
    "df_messages = pd.DataFrame.from_dict(dict_messages, orient='index', columns=['topic', 'content', 'date'])\n",
    "\n",
    "# Removing newlines and tabs from content cells.\n",
    "df_messages['content'] = df_messages['content'].str.replace('\\n', '')\n",
    "df_messages['content'] = df_messages['content'].str.replace('\\t', '')\n",
    "\n",
    "# Convert dates to datetime\n",
    "from datetime import datetime\n",
    "import locale\n",
    "locale.setlocale(locale.LC_ALL, \"nl_NL\")\n",
    "\n",
    "df_messages[\"date\"] = df_messages[\"date\"].str.split(\" \").apply(lambda x: \" \".join([i.capitalize() for i in x]))\n",
    "\n",
    "print(datetime.strptime(\"22 Okt 2021 14:32\", \"%d %b %Y %H:%M\"))\n",
    "\n",
    "df_messages['date'] = df_messages['date'].apply(lambda x: datetime.strptime(x, \"%d %b %Y %H:%M\"))\n",
    "\n",
    "df_messages\n",
    "\n"
   ],
   "metadata": {
    "collapsed": false
   }
  },
  {
   "cell_type": "code",
   "execution_count": 3,
   "outputs": [
    {
     "name": "stdout",
     "output_type": "stream",
     "text": [
      "1\n",
      "2021-10-22 14:18:00\n",
      "2\n",
      "2021-10-22 14:52:00\n",
      "3\n",
      "2021-10-22 17:23:00\n",
      "4\n",
      "2021-10-22 17:57:00\n",
      "5\n",
      "2021-10-22 18:11:00\n",
      "6\n",
      "2021-10-23 11:48:00\n",
      "7\n",
      "2021-10-27 15:17:00\n",
      "8\n",
      "2021-10-28 09:25:00\n",
      "9\n",
      "2021-10-28 12:15:00\n",
      "10\n",
      "2021-10-28 18:59:00\n",
      "11\n",
      "2021-10-28 22:34:00\n",
      "12\n",
      "2021-10-28 23:24:00\n",
      "13\n",
      "2021-10-29 02:18:00\n",
      "14\n",
      "2021-10-29 02:23:00\n",
      "15\n",
      "2021-10-29 07:43:00\n",
      "16\n",
      "2021-10-29 11:40:00\n",
      "17\n",
      "2021-10-29 12:00:00\n",
      "18\n",
      "2021-10-30 11:31:00\n",
      "19\n",
      "2021-10-30 12:47:00\n",
      "20\n",
      "2021-10-30 16:14:00\n",
      "21\n",
      "2021-10-30 17:05:00\n",
      "22\n",
      "2021-10-30 18:15:00\n",
      "23\n",
      "2021-10-30 20:11:00\n",
      "24\n",
      "2021-10-30 21:53:00\n",
      "25\n",
      "2021-10-31 11:00:00\n",
      "26\n",
      "2021-10-31 11:07:00\n",
      "27\n",
      "2021-10-31 11:13:00\n",
      "28\n",
      "2021-10-31 15:47:00\n",
      "29\n",
      "2021-10-31 17:17:00\n",
      "30\n",
      "2022-11-27 15:13:00\n",
      "31\n",
      "2022-11-27 15:18:00\n",
      "32\n",
      "2022-11-27 15:29:00\n",
      "33\n",
      "2022-12-12 23:18:00\n",
      "34\n",
      "2022-12-12 23:28:00\n",
      "35\n",
      "2022-12-13 02:35:00\n",
      "36\n",
      "2022-12-13 09:07:00\n",
      "37\n",
      "2022-12-13 09:09:00\n",
      "38\n",
      "2022-12-13 09:15:00\n",
      "39\n",
      "2022-12-13 09:22:00\n",
      "40\n",
      "2022-12-13 09:36:00\n",
      "41\n",
      "2022-12-13 09:57:00\n",
      "42\n",
      "2022-12-13 10:50:00\n",
      "43\n",
      "2022-12-13 11:40:00\n",
      "44\n",
      "2022-12-13 14:35:00\n",
      "45\n",
      "2022-12-13 15:15:00\n",
      "46\n",
      "2022-12-13 15:55:00\n",
      "47\n",
      "2022-12-13 16:03:00\n",
      "48\n",
      "2022-12-13 19:46:00\n",
      "49\n",
      "2022-12-14 20:03:00\n",
      "50\n",
      "2023-02-13 19:48:00\n",
      "51\n",
      "2023-02-13 21:27:00\n",
      "52\n",
      "2023-02-13 21:32:00\n",
      "53\n",
      "2023-02-13 22:42:00\n",
      "54\n",
      "2023-02-13 23:55:00\n",
      "55\n",
      "2023-02-14 00:20:00\n",
      "56\n",
      "2023-02-14 07:10:00\n",
      "57\n",
      "2023-02-14 09:24:00\n",
      "58\n",
      "2023-02-14 09:28:00\n",
      "59\n",
      "2023-02-14 09:29:00\n",
      "60\n",
      "2023-02-14 09:31:00\n",
      "61\n",
      "2023-02-14 09:42:00\n",
      "62\n",
      "2023-02-14 09:46:00\n",
      "63\n",
      "2023-02-14 10:35:00\n",
      "64\n",
      "2023-02-14 11:05:00\n",
      "65\n",
      "2023-02-14 11:17:00\n",
      "66\n",
      "2023-02-14 14:38:00\n",
      "67\n",
      "2023-02-14 14:45:00\n",
      "68\n",
      "2023-02-14 14:55:00\n",
      "69\n",
      "2023-02-14 15:14:00\n",
      "70\n",
      "2023-02-14 15:23:00\n",
      "71\n",
      "2023-02-14 17:27:00\n",
      "72\n",
      "2023-02-14 18:29:00\n",
      "73\n",
      "2023-02-14 19:42:00\n",
      "74\n",
      "2023-02-14 20:20:00\n",
      "75\n",
      "2023-02-14 20:36:00\n",
      "76\n",
      "2023-02-14 21:42:00\n",
      "77\n",
      "2023-02-14 21:50:00\n",
      "78\n",
      "2023-02-14 22:33:00\n",
      "79\n",
      "2023-02-14 23:05:00\n",
      "80\n",
      "2023-02-15 08:08:00\n",
      "81\n",
      "2023-02-15 08:35:00\n",
      "82\n",
      "2023-02-15 08:55:00\n",
      "83\n",
      "2023-02-15 09:07:00\n",
      "84\n",
      "2023-02-15 09:13:00\n",
      "85\n",
      "2023-02-15 10:30:00\n",
      "86\n",
      "2023-02-15 11:20:00\n"
     ]
    }
   ],
   "source": [
    "for index, row in df_messages.iterrows():\n",
    "    print(index)\n",
    "    print(row['date'])"
   ],
   "metadata": {
    "collapsed": false
   }
  },
  {
   "cell_type": "code",
   "execution_count": 4,
   "outputs": [
    {
     "data": {
      "text/plain": "Downloading (…)\"pytorch_model.bin\";:   0%|          | 0.00/465M [00:00<?, ?B/s]",
      "application/vnd.jupyter.widget-view+json": {
       "version_major": 2,
       "version_minor": 0,
       "model_id": "5e56185c68b841fd817084aa9c3c9d1e"
      }
     },
     "metadata": {},
     "output_type": "display_data"
    },
    {
     "name": "stderr",
     "output_type": "stream",
     "text": [
      "C:\\Users\\noudy\\AppData\\Local\\Programs\\Python\\Python310\\lib\\site-packages\\torch\\_utils.py:146: UserWarning: Failed to initialize NumPy: module compiled against API version 0x10 but this version of numpy is 0xf (Triggered internally at ..\\torch\\csrc\\utils\\tensor_numpy.cpp:77.)\n",
      "  t = torch.tensor([], dtype=storage.dtype, device=storage.untyped().device)\n"
     ]
    },
    {
     "name": "stdout",
     "output_type": "stream",
     "text": [
      "RobBERT model loaded\n"
     ]
    }
   ],
   "source": [
    "import torch\n",
    "from transformers import RobertaTokenizer, RobertaForTokenClassification\n",
    "\n",
    "tokenizer = RobertaTokenizer.from_pretrained('pdelobelle/robbert-v2-dutch-ner')\n",
    "model = RobertaForTokenClassification.from_pretrained('pdelobelle/robbert-v2-dutch-ner', return_dict=True)\n",
    "model.eval()\n",
    "print(\"RobBERT model loaded\")"
   ],
   "metadata": {
    "collapsed": false
   }
  },
  {
   "cell_type": "code",
   "execution_count": 7,
   "outputs": [
    {
     "name": "stdout",
     "output_type": "stream",
     "text": [
      "input_ids:\n",
      "\ttensor([[    0,  6079,   499,    38,     5, 13292,    11,  6422,     8,  7010,\n",
      "             9,  2617,     4,     2,     1],\n",
      "        [    0, 25907,   129,  1283,     8,  3971,   113,    28,   118,    71,\n",
      "           435,    38, 27600,     4,     2],\n",
      "        [    0,  9396,    89,     9,   797,  2877,    22,    11,     5,  4290,\n",
      "           445,     4,     2,     1,     1],\n",
      "        [    0,  7751,     6,    74,   458,    12,  3663, 14334,   342,     4,\n",
      "             2,     1,     1,     1,     1]])\n",
      "attention_mask:\n",
      "\ttensor([[1, 1, 1, 1, 1, 1, 1, 1, 1, 1, 1, 1, 1, 1, 0],\n",
      "        [1, 1, 1, 1, 1, 1, 1, 1, 1, 1, 1, 1, 1, 1, 1],\n",
      "        [1, 1, 1, 1, 1, 1, 1, 1, 1, 1, 1, 1, 1, 0, 0],\n",
      "        [1, 1, 1, 1, 1, 1, 1, 1, 1, 1, 1, 0, 0, 0, 0]])\n",
      "Tokens:\n",
      "\t['<s>', 'Jan', 'Ġging', 'Ġnaar', 'Ġde', 'Ġbakker', 'Ġin', 'ĠLeuven', 'Ġen', 'Ġkocht', 'Ġeen', 'Ġbrood', '.', '</s>', '<pad>']\n",
      "\t['<s>', 'Bedrijven', 'Ġzoals', 'ĠGoogle', 'Ġen', 'ĠMicrosoft', 'Ġdoen', 'Ġook', 'Ġheel', 'Ġveel', 'Ġonderzoek', 'Ġnaar', 'ĠNLP', '.', '</s>']\n"
     ]
    }
   ],
   "source": [
    "inputs = tokenizer.batch_encode_plus(\n",
    "    [\"Jan ging naar de bakker in Leuven en kocht een brood.\",\n",
    "     \"Bedrijven zoals Google en Microsoft doen ook heel veel onderzoek naar NLP.\",\n",
    "     \"Men moet een gegeven paard niet in de bek kijken.\",\n",
    "     \"Hallo, mijn naam is RobBERT.\"],\n",
    "    return_tensors=\"pt\", padding=True)\n",
    "for key, value in inputs.items():\n",
    "    print(\"{}:\\n\\t{}\".format(key, value))\n",
    "print(\"Tokens:\\n\\t{}\".format(tokenizer.convert_ids_to_tokens(inputs['input_ids'][0]) ))\n",
    "print(\"\\t{}\".format(tokenizer.convert_ids_to_tokens(inputs['input_ids'][1]) ))"
   ],
   "metadata": {
    "collapsed": false
   }
  },
  {
   "cell_type": "code",
   "execution_count": 8,
   "outputs": [
    {
     "name": "stdout",
     "output_type": "stream",
     "text": [
      "{0: 'B-PER', 1: 'B-ORG', 2: 'B-LOC', 3: 'B-MISC', 4: 'I-PER', 5: 'I-ORG', 6: 'I-LOC', 7: 'I-MISC', 8: 'O'}\n"
     ]
    }
   ],
   "source": [
    "print(model.config.id2label)\n"
   ],
   "metadata": {
    "collapsed": false
   }
  },
  {
   "cell_type": "code",
   "execution_count": 9,
   "outputs": [
    {
     "name": "stdout",
     "output_type": "stream",
     "text": [
      "Sentence 0\n",
      "<s>         Jan         Ġging       Ġnaar       Ġde         Ġbakker     Ġin         ĠLeuven     Ġen         Ġkocht      Ġeen        Ġbrood      .           </s>        <pad>       \n",
      "\n",
      "O           B-PER       O           O           O           O           O           B-LOC       O           O           O           O           O           O           O           \n",
      "\n",
      "Sentence 1\n",
      "<s>         Bedrijven   Ġzoals      ĠGoogle     Ġen         ĠMicrosoft  Ġdoen       Ġook        Ġheel       Ġveel       Ġonderzoek  Ġnaar       ĠNLP        .           </s>        \n",
      "\n",
      "O           O           O           B-ORG       O           B-ORG       O           O           O           O           O           O           B-MISC      O           O           \n",
      "\n",
      "Sentence 2\n",
      "<s>         Men         Ġmoet       Ġeen        Ġgegeven    Ġpaard      Ġniet       Ġin         Ġde         Ġbek        Ġkijken     .           </s>        <pad>       <pad>       \n",
      "\n",
      "O           O           O           O           O           O           O           O           O           O           O           O           O           O           O           \n",
      "\n",
      "Sentence 3\n",
      "<s>         Hallo       ,           Ġmijn       Ġnaam       Ġis         ĠRob        BER         T           .           </s>        <pad>       <pad>       <pad>       <pad>       \n",
      "\n",
      "O           O           O           O           O           O           B-PER       I-PER       I-PER       O           O           I-PER       I-PER       I-PER       I-PER       \n",
      "\n"
     ]
    }
   ],
   "source": [
    "with torch.no_grad():\n",
    "    results = model(**inputs)\n",
    "    for i, input in enumerate(inputs['input_ids']):\n",
    "        print(f\"Sentence {i}\")\n",
    "        [print(\"{:12}\".format(token), end=\"\") for token in tokenizer.convert_ids_to_tokens(input) ]\n",
    "        print('\\n')\n",
    "        [print(\"{:12}\".format(model.config.id2label[item.item()]), end=\"\") for item in results.logits[i].argmax(axis=1)]\n",
    "        print('\\n')"
   ],
   "metadata": {
    "collapsed": false
   }
  },
  {
   "cell_type": "code",
   "execution_count": 17,
   "outputs": [
    {
     "name": "stdout",
     "output_type": "stream",
     "text": [
      "input_ids:\n",
      "\ttensor([[    0,   375,    10,   396,    88,    29,     5, 10608,   827, 18655,\n",
      "            13,   395,  2464,   224,     6,    37,    29,   944,    10,    49,\n",
      "           237,  3201,   511,     4,     2]])\n",
      "attention_mask:\n",
      "\ttensor([[1, 1, 1, 1, 1, 1, 1, 1, 1, 1, 1, 1, 1, 1, 1, 1, 1, 1, 1, 1, 1, 1, 1, 1,\n",
      "         1]])\n",
      "Tokens:\n",
      "\t['<s>', 'Op', 'Ġhet', 'Ġmoment', 'Ġheb', 'Ġik', 'Ġde', 'ĠKol', 'ere', 'Ġthermostaat', 'Ġop', 'Ġ20', 'Ġgraden', 'Ġstaan', ',', 'Ġmaar', 'Ġik', 'Ġkrijg', 'Ġhet', 'Ġnog', 'Ġsteeds', 'Ġkoud', 'Ġthuis', '.', '</s>']\n",
      "Sentence 0\n",
      "<s>         Op          Ġhet        Ġmoment     Ġheb        Ġik         Ġde         ĠKol        ere         ĠthermostaatĠop         Ġ20         Ġgraden     Ġstaan      ,           Ġmaar       Ġik         Ġkrijg      Ġhet        Ġnog        Ġsteeds     Ġkoud       Ġthuis      .           </s>        \n",
      "\n",
      "O           O           O           O           O           O           O           B-MISC      O           O           O           O           O           O           O           O           O           O           O           O           O           O           O           O           O           \n",
      "\n"
     ]
    }
   ],
   "source": [
    "inputs = tokenizer.batch_encode_plus([\"Op het moment heb ik de Kolere thermostaat op 20 graden staan, maar ik krijg het nog steeds koud thuis.\"], return_tensors=\"pt\", padding=True)\n",
    "\n",
    "for key, value in inputs.items():\n",
    "    print(\"{}:\\n\\t{}\".format(key, value))\n",
    "print(\"Tokens:\\n\\t{}\".format(tokenizer.convert_ids_to_tokens(inputs['input_ids'][0]) ))\n",
    "\n",
    "with torch.no_grad():\n",
    "    results = model(**inputs)\n",
    "    for i, input in enumerate(inputs['input_ids']):\n",
    "        print(f\"Sentence {i}\")\n",
    "        [print(\"{:12}\".format(token), end=\"\") for token in tokenizer.convert_ids_to_tokens(input) ]\n",
    "        print('\\n')\n",
    "        [print(\"{:12}\".format(model.config.id2label[item.item()]), end=\"\") for item in results.logits[i].argmax(axis=1)]\n",
    "        print('\\n')\n"
   ],
   "metadata": {
    "collapsed": false
   }
  },
  {
   "cell_type": "code",
   "execution_count": null,
   "outputs": [],
   "source": [],
   "metadata": {
    "collapsed": false
   }
  },
  {
   "cell_type": "code",
   "execution_count": null,
   "outputs": [],
   "source": [],
   "metadata": {
    "collapsed": false
   }
  }
 ],
 "metadata": {
  "kernelspec": {
   "display_name": "Python 3",
   "language": "python",
   "name": "python3"
  },
  "language_info": {
   "codemirror_mode": {
    "name": "ipython",
    "version": 2
   },
   "file_extension": ".py",
   "mimetype": "text/x-python",
   "name": "python",
   "nbconvert_exporter": "python",
   "pygments_lexer": "ipython2",
   "version": "2.7.6"
  }
 },
 "nbformat": 4,
 "nbformat_minor": 0
}
