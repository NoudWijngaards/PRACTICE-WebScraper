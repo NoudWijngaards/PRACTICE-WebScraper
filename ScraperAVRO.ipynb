{
 "cells": [
  {
   "cell_type": "code",
   "execution_count": 1,
   "outputs": [
    {
     "data": {
      "text/plain": "                                                                                                 link  \\\nDe energiemarkt en salderen: hoe komt de prijsv...  https://radar.avrotros.nl/forum/energie-f51/de...   \nWoningen met verkeerde energielabels, wie heeft...  https://radar.avrotros.nl/forum/energie-f51/wo...   \nslimme meter meet niet altijd correct               https://radar.avrotros.nl/forum/energie-f51/sl...   \nEnergieleverancier kiezen met zonnepanelen          https://radar.avrotros.nl/forum/energie-f51/en...   \nHogere tarieven Vattenfall ontlopen                 https://radar.avrotros.nl/forum/energie-f51/ho...   \n...                                                                                               ...   \nEen energiecontract zonder mijn toestemming?        https://radar.avrotros.nl/forum/energie-f51/ee...   \nVattenfall wil Warmtelink plaatsen voor digitaa...  https://radar.avrotros.nl/forum/energie-f51/va...   \nEnergierekening opsplitsen in Netbeheer en Leve...  https://radar.avrotros.nl/forum/energie-f51/en...   \nFaillisement Energie Welkom: wat kan / mag ik?      https://radar.avrotros.nl/forum/energie-f51/fa...   \nNa failliete Welkom Energie nu de rekening van ...  https://radar.avrotros.nl/forum/energie-f51/na...   \n\n                                                                 date    code  \\\nDe energiemarkt en salderen: hoe komt de prijsv...  22 okt 2021 14:18  197725   \nWoningen met verkeerde energielabels, wie heeft...  13 feb 2023 19:48  200283   \nslimme meter meet niet altijd correct               14 feb 2023 11:37  200287   \nEnergieleverancier kiezen met zonnepanelen          05 jan 2021 16:57  195768   \nHogere tarieven Vattenfall ontlopen                 23 dec 2022 16:42  199987   \n...                                                               ...     ...   \nEen energiecontract zonder mijn toestemming?        09 mei 2022 17:04  198866   \nVattenfall wil Warmtelink plaatsen voor digitaa...  02 jun 2021 17:18  196961   \nEnergierekening opsplitsen in Netbeheer en Leve...  03 mar 2022 09:41  198540   \nFaillisement Energie Welkom: wat kan / mag ik?      15 nov 2021 09:41  197882   \nNa failliete Welkom Energie nu de rekening van ...  17 dec 2021 13:29  198056   \n\n                                                    reactions  \nDe energiemarkt en salderen: hoe komt de prijsv...         48  \nWoningen met verkeerde energielabels, wie heeft...         32  \nslimme meter meet niet altijd correct                       3  \nEnergieleverancier kiezen met zonnepanelen                100  \nHogere tarieven Vattenfall ontlopen                         9  \n...                                                       ...  \nEen energiecontract zonder mijn toestemming?                6  \nVattenfall wil Warmtelink plaatsen voor digitaa...         47  \nEnergierekening opsplitsen in Netbeheer en Leve...         17  \nFaillisement Energie Welkom: wat kan / mag ik?             31  \nNa failliete Welkom Energie nu de rekening van ...        176  \n\n[100 rows x 4 columns]",
      "text/html": "<div>\n<style scoped>\n    .dataframe tbody tr th:only-of-type {\n        vertical-align: middle;\n    }\n\n    .dataframe tbody tr th {\n        vertical-align: top;\n    }\n\n    .dataframe thead th {\n        text-align: right;\n    }\n</style>\n<table border=\"1\" class=\"dataframe\">\n  <thead>\n    <tr style=\"text-align: right;\">\n      <th></th>\n      <th>link</th>\n      <th>date</th>\n      <th>code</th>\n      <th>reactions</th>\n    </tr>\n  </thead>\n  <tbody>\n    <tr>\n      <th>De energiemarkt en salderen: hoe komt de prijsvorming tot stand?</th>\n      <td>https://radar.avrotros.nl/forum/energie-f51/de...</td>\n      <td>22 okt 2021 14:18</td>\n      <td>197725</td>\n      <td>48</td>\n    </tr>\n    <tr>\n      <th>Woningen met verkeerde energielabels, wie heeft daar ervaring mee?</th>\n      <td>https://radar.avrotros.nl/forum/energie-f51/wo...</td>\n      <td>13 feb 2023 19:48</td>\n      <td>200283</td>\n      <td>32</td>\n    </tr>\n    <tr>\n      <th>slimme meter meet niet altijd correct</th>\n      <td>https://radar.avrotros.nl/forum/energie-f51/sl...</td>\n      <td>14 feb 2023 11:37</td>\n      <td>200287</td>\n      <td>3</td>\n    </tr>\n    <tr>\n      <th>Energieleverancier kiezen met zonnepanelen</th>\n      <td>https://radar.avrotros.nl/forum/energie-f51/en...</td>\n      <td>05 jan 2021 16:57</td>\n      <td>195768</td>\n      <td>100</td>\n    </tr>\n    <tr>\n      <th>Hogere tarieven Vattenfall ontlopen</th>\n      <td>https://radar.avrotros.nl/forum/energie-f51/ho...</td>\n      <td>23 dec 2022 16:42</td>\n      <td>199987</td>\n      <td>9</td>\n    </tr>\n    <tr>\n      <th>...</th>\n      <td>...</td>\n      <td>...</td>\n      <td>...</td>\n      <td>...</td>\n    </tr>\n    <tr>\n      <th>Een energiecontract zonder mijn toestemming?</th>\n      <td>https://radar.avrotros.nl/forum/energie-f51/ee...</td>\n      <td>09 mei 2022 17:04</td>\n      <td>198866</td>\n      <td>6</td>\n    </tr>\n    <tr>\n      <th>Vattenfall wil Warmtelink plaatsen voor digitaal uitlezen verbruik</th>\n      <td>https://radar.avrotros.nl/forum/energie-f51/va...</td>\n      <td>02 jun 2021 17:18</td>\n      <td>196961</td>\n      <td>47</td>\n    </tr>\n    <tr>\n      <th>Energierekening opsplitsen in Netbeheer en Levering</th>\n      <td>https://radar.avrotros.nl/forum/energie-f51/en...</td>\n      <td>03 mar 2022 09:41</td>\n      <td>198540</td>\n      <td>17</td>\n    </tr>\n    <tr>\n      <th>Faillisement Energie Welkom: wat kan / mag ik?</th>\n      <td>https://radar.avrotros.nl/forum/energie-f51/fa...</td>\n      <td>15 nov 2021 09:41</td>\n      <td>197882</td>\n      <td>31</td>\n    </tr>\n    <tr>\n      <th>Na failliete Welkom Energie nu de rekening van Eneco voor november, wat nu?</th>\n      <td>https://radar.avrotros.nl/forum/energie-f51/na...</td>\n      <td>17 dec 2021 13:29</td>\n      <td>198056</td>\n      <td>176</td>\n    </tr>\n  </tbody>\n</table>\n<p>100 rows × 4 columns</p>\n</div>"
     },
     "execution_count": 1,
     "metadata": {},
     "output_type": "execute_result"
    }
   ],
   "source": [
    "from bs4 import BeautifulSoup\n",
    "import requests\n",
    "import re\n",
    "\n",
    "# Web scraping from the radar AvroTros website\n",
    "search_link = \"https://radar.avrotros.nl/forum/energie-f51/index-s\"\n",
    "\n",
    "forum_url = BeautifulSoup(requests.get(search_link).content, 'html.parser')\n",
    "\n",
    "page_index = 0\n",
    "\n",
    "dict_topics = {}\n",
    "\n",
    "for i in range(0, 100, 25):\n",
    "    page_index = i\n",
    "\n",
    "    forum_url = BeautifulSoup(requests.get(search_link + str(page_index) + '.html').content, 'html.parser')\n",
    "\n",
    "    items = forum_url.find_all(class_=lambda x: x and x.startswith(\"row bg\"))\n",
    "\n",
    "    for item in items:\n",
    "        title = item.find('a', class_='topictitle')\n",
    "        topic_title = title.text\n",
    "\n",
    "        topic_link = \"https://radar.avrotros.nl/forum\" + \"/\" + title['href'].lstrip('./..').split('.html')[0] + '.html'\n",
    "\n",
    "        date_element = item.find(\"div\", class_=\"topic-poster responsive-hide left-box\").find(\"time\")\n",
    "        date = date_element.text\n",
    "\n",
    "        code_link = topic_link[-11:]\n",
    "        code = code_link[:6]\n",
    "\n",
    "        reactions_element = item.find(\"dd\", class_=\"posts\")\n",
    "        reactions = reactions_element.text\n",
    "        # Remove the 'Reacties' text\n",
    "        reactions = reactions[:-9]\n",
    "        reactions = int(reactions)\n",
    "\n",
    "        dict_topics[topic_title] = topic_link, date, code, reactions\n",
    "\n",
    "# Convert dict to dataframe\n",
    "import pandas as pd\n",
    "\n",
    "df_topics = pd.DataFrame.from_dict(dict_topics, orient='index', columns=['link', 'date', 'code', 'reactions'])\n",
    "\n",
    "df_topics"
   ],
   "metadata": {
    "collapsed": false
   }
  },
  {
   "cell_type": "code",
   "execution_count": 2,
   "outputs": [
    {
     "name": "stdout",
     "output_type": "stream",
     "text": [
      "https://radar.avrotros.nl/forum/viewtopic.php?t=197725&start=0\n",
      "https://radar.avrotros.nl/forum/viewtopic.php?t=197725&start=20\n",
      "https://radar.avrotros.nl/forum/viewtopic.php?t=197725&start=40\n",
      "https://radar.avrotros.nl/forum/viewtopic.php?t=200283&start=0\n",
      "https://radar.avrotros.nl/forum/viewtopic.php?t=200283&start=20\n",
      "2021-10-22 14:32:00\n"
     ]
    },
    {
     "data": {
      "text/plain": "                                                topic  \\\n1   De energiemarkt en salderen: hoe komt de prijs...   \n2   De energiemarkt en salderen: hoe komt de prijs...   \n3   De energiemarkt en salderen: hoe komt de prijs...   \n4   De energiemarkt en salderen: hoe komt de prijs...   \n5   De energiemarkt en salderen: hoe komt de prijs...   \n..                                                ...   \n78  Woningen met verkeerde energielabels, wie heef...   \n79  Woningen met verkeerde energielabels, wie heef...   \n80  Woningen met verkeerde energielabels, wie heef...   \n81  Woningen met verkeerde energielabels, wie heef...   \n82  Woningen met verkeerde energielabels, wie heef...   \n\n                                              content                date  \n1   Goedendag,In navolging van het inmiddels geslo... 2021-10-22 14:18:00  \n2   3.U verbruikt en produceert stroomDezelfde pri... 2021-10-22 14:52:00  \n3                              Heel leerzaam artikel. 2021-10-22 17:23:00  \n4                    Dank voor de uitgebreide uitleg. 2021-10-22 17:57:00  \n5   Ik heb de mods gevraagd dit topic sticky te ma... 2021-10-22 18:11:00  \n..                                                ...                 ...  \n78  Alweer een statement wat niet is onderbouwd. J... 2023-02-15 08:08:00  \n79  De labels die de bewoners kregen waren geen of... 2023-02-15 08:35:00  \n80  Zit er een kras op uw plaat? Kom dan eens met ... 2023-02-15 08:55:00  \n81  Dan heb je er dus niks aan. Niet om de hoogte ... 2023-02-15 09:07:00  \n82  Voor mij is dat duidelijk uit de bijdragen te ... 2023-02-15 09:13:00  \n\n[82 rows x 3 columns]",
      "text/html": "<div>\n<style scoped>\n    .dataframe tbody tr th:only-of-type {\n        vertical-align: middle;\n    }\n\n    .dataframe tbody tr th {\n        vertical-align: top;\n    }\n\n    .dataframe thead th {\n        text-align: right;\n    }\n</style>\n<table border=\"1\" class=\"dataframe\">\n  <thead>\n    <tr style=\"text-align: right;\">\n      <th></th>\n      <th>topic</th>\n      <th>content</th>\n      <th>date</th>\n    </tr>\n  </thead>\n  <tbody>\n    <tr>\n      <th>1</th>\n      <td>De energiemarkt en salderen: hoe komt de prijs...</td>\n      <td>Goedendag,In navolging van het inmiddels geslo...</td>\n      <td>2021-10-22 14:18:00</td>\n    </tr>\n    <tr>\n      <th>2</th>\n      <td>De energiemarkt en salderen: hoe komt de prijs...</td>\n      <td>3.U verbruikt en produceert stroomDezelfde pri...</td>\n      <td>2021-10-22 14:52:00</td>\n    </tr>\n    <tr>\n      <th>3</th>\n      <td>De energiemarkt en salderen: hoe komt de prijs...</td>\n      <td>Heel leerzaam artikel.</td>\n      <td>2021-10-22 17:23:00</td>\n    </tr>\n    <tr>\n      <th>4</th>\n      <td>De energiemarkt en salderen: hoe komt de prijs...</td>\n      <td>Dank voor de uitgebreide uitleg.</td>\n      <td>2021-10-22 17:57:00</td>\n    </tr>\n    <tr>\n      <th>5</th>\n      <td>De energiemarkt en salderen: hoe komt de prijs...</td>\n      <td>Ik heb de mods gevraagd dit topic sticky te ma...</td>\n      <td>2021-10-22 18:11:00</td>\n    </tr>\n    <tr>\n      <th>...</th>\n      <td>...</td>\n      <td>...</td>\n      <td>...</td>\n    </tr>\n    <tr>\n      <th>78</th>\n      <td>Woningen met verkeerde energielabels, wie heef...</td>\n      <td>Alweer een statement wat niet is onderbouwd. J...</td>\n      <td>2023-02-15 08:08:00</td>\n    </tr>\n    <tr>\n      <th>79</th>\n      <td>Woningen met verkeerde energielabels, wie heef...</td>\n      <td>De labels die de bewoners kregen waren geen of...</td>\n      <td>2023-02-15 08:35:00</td>\n    </tr>\n    <tr>\n      <th>80</th>\n      <td>Woningen met verkeerde energielabels, wie heef...</td>\n      <td>Zit er een kras op uw plaat? Kom dan eens met ...</td>\n      <td>2023-02-15 08:55:00</td>\n    </tr>\n    <tr>\n      <th>81</th>\n      <td>Woningen met verkeerde energielabels, wie heef...</td>\n      <td>Dan heb je er dus niks aan. Niet om de hoogte ...</td>\n      <td>2023-02-15 09:07:00</td>\n    </tr>\n    <tr>\n      <th>82</th>\n      <td>Woningen met verkeerde energielabels, wie heef...</td>\n      <td>Voor mij is dat duidelijk uit de bijdragen te ...</td>\n      <td>2023-02-15 09:13:00</td>\n    </tr>\n  </tbody>\n</table>\n<p>82 rows × 3 columns</p>\n</div>"
     },
     "execution_count": 2,
     "metadata": {},
     "output_type": "execute_result"
    }
   ],
   "source": [
    "# Get first ten rows within df\n",
    "topics = df_topics.head(2)\n",
    "\n",
    "\n",
    "dict_messages = {}\n",
    "message_id = 1\n",
    "\n",
    "for topic, row in topics.iterrows():\n",
    "    page_index = 0\n",
    "    while True:\n",
    "        if page_index > row['reactions']:\n",
    "            break\n",
    "        page_link = \"https://radar.avrotros.nl/forum/viewtopic.php?t=\" + row['code'] + \"&start=\" + str(page_index)\n",
    "        print(page_link)\n",
    "        page = requests.get(page_link)\n",
    "        if page.status_code != 200:\n",
    "            break\n",
    "        soup = BeautifulSoup(page.content, 'html.parser')\n",
    "        posts = soup.find_all('div', class_=lambda x: x and x.startswith(\"post has-profile bg\"))\n",
    "        for post in posts:\n",
    "            content = post.find(\"div\", class_=\"content\")\n",
    "            # Remove blockquotes to prevent double counting\n",
    "            for blockquote in content.find_all(\"blockquote\"):\n",
    "                blockquote.decompose()\n",
    "            content = content.text\n",
    "\n",
    "            date = post.find('p', class_=\"author\").find('time').text\n",
    "\n",
    "            dict_messages[message_id] = topic, content, date\n",
    "            message_id += 1\n",
    "\n",
    "        page_index += 20\n",
    "\n",
    "\n",
    "df_messages = pd.DataFrame.from_dict(dict_messages, orient='index', columns=['topic', 'content', 'date'])\n",
    "\n",
    "# Removing newlines and tabs from content cells.\n",
    "df_messages['content'] = df_messages['content'].str.replace('\\n', '')\n",
    "df_messages['content'] = df_messages['content'].str.replace('\\t', '')\n",
    "\n",
    "# Convert dates to datetime\n",
    "from datetime import datetime\n",
    "import locale\n",
    "locale.setlocale(locale.LC_ALL, \"nl_NL\")\n",
    "\n",
    "df_messages[\"date\"] = df_messages[\"date\"].str.split(\" \").apply(lambda x: \" \".join([i.capitalize() for i in x]))\n",
    "\n",
    "print(datetime.strptime(\"22 Okt 2021 14:32\", \"%d %b %Y %H:%M\"))\n",
    "\n",
    "df_messages['date'] = df_messages['date'].apply(lambda x: datetime.strptime(x, \"%d %b %Y %H:%M\"))\n",
    "\n",
    "df_messages\n",
    "\n"
   ],
   "metadata": {
    "collapsed": false
   }
  },
  {
   "cell_type": "code",
   "execution_count": 5,
   "outputs": [
    {
     "name": "stdout",
     "output_type": "stream",
     "text": [
      "1     Goedendag,In navolging van het inmiddels geslo...\n",
      "2     3.U verbruikt en produceert stroomDezelfde pri...\n",
      "3                                Heel leerzaam artikel.\n",
      "4                      Dank voor de uitgebreide uitleg.\n",
      "5     Ik heb de mods gevraagd dit topic sticky te ma...\n",
      "                            ...                        \n",
      "78    Alweer een statement wat niet is onderbouwd. J...\n",
      "79    De labels die de bewoners kregen waren geen of...\n",
      "80    Zit er een kras op uw plaat? Kom dan eens met ...\n",
      "81    Dan heb je er dus niks aan. Niet om de hoogte ...\n",
      "82    Voor mij is dat duidelijk uit de bijdragen te ...\n",
      "Name: content, Length: 82, dtype: object\n",
      "<class 'str'>\n",
      "<class 'str'>\n",
      "<class 'str'>\n",
      "<class 'str'>\n",
      "<class 'str'>\n",
      "<class 'str'>\n",
      "<class 'str'>\n",
      "<class 'str'>\n",
      "<class 'str'>\n",
      "<class 'str'>\n",
      "<class 'str'>\n",
      "<class 'str'>\n",
      "<class 'str'>\n",
      "<class 'str'>\n",
      "<class 'str'>\n",
      "<class 'str'>\n",
      "<class 'str'>\n",
      "<class 'str'>\n",
      "<class 'str'>\n",
      "<class 'str'>\n",
      "<class 'str'>\n",
      "<class 'str'>\n",
      "<class 'str'>\n",
      "<class 'str'>\n",
      "<class 'str'>\n",
      "<class 'str'>\n",
      "<class 'str'>\n",
      "<class 'str'>\n",
      "<class 'str'>\n",
      "<class 'str'>\n",
      "<class 'str'>\n",
      "<class 'str'>\n",
      "<class 'str'>\n",
      "<class 'str'>\n",
      "<class 'str'>\n",
      "<class 'str'>\n",
      "<class 'str'>\n",
      "<class 'str'>\n",
      "<class 'str'>\n",
      "<class 'str'>\n",
      "<class 'str'>\n",
      "<class 'str'>\n",
      "<class 'str'>\n",
      "<class 'str'>\n",
      "<class 'str'>\n",
      "<class 'str'>\n",
      "<class 'str'>\n",
      "<class 'str'>\n",
      "<class 'str'>\n",
      "<class 'str'>\n",
      "<class 'str'>\n",
      "<class 'str'>\n",
      "<class 'str'>\n",
      "<class 'str'>\n",
      "<class 'str'>\n",
      "<class 'str'>\n",
      "<class 'str'>\n",
      "<class 'str'>\n",
      "<class 'str'>\n",
      "<class 'str'>\n",
      "<class 'str'>\n",
      "<class 'str'>\n",
      "<class 'str'>\n",
      "<class 'str'>\n",
      "<class 'str'>\n",
      "<class 'str'>\n",
      "<class 'str'>\n",
      "<class 'str'>\n",
      "<class 'str'>\n",
      "<class 'str'>\n",
      "<class 'str'>\n",
      "<class 'str'>\n",
      "<class 'str'>\n",
      "<class 'str'>\n",
      "<class 'str'>\n",
      "<class 'str'>\n",
      "<class 'str'>\n",
      "<class 'str'>\n",
      "<class 'str'>\n",
      "<class 'str'>\n",
      "<class 'str'>\n",
      "<class 'str'>\n"
     ]
    }
   ],
   "source": [
    "print(df_messages['content'])\n",
    "\n",
    "for i in df_messages['content']:\n",
    "    print(type(i))"
   ],
   "metadata": {
    "collapsed": false
   }
  },
  {
   "cell_type": "code",
   "execution_count": 6,
   "outputs": [
    {
     "name": "stderr",
     "output_type": "stream",
     "text": [
      "None of PyTorch, TensorFlow >= 2.0, or Flax have been found. Models won't be available and only tokenizers, configuration and file/data utilities can be used.\n",
      "No model was supplied, defaulted to distilbert-base-uncased-finetuned-sst-2-english and revision af0f99b (https://huggingface.co/distilbert-base-uncased-finetuned-sst-2-english).\n",
      "Using a pipeline without specifying a model name and revision in production is not recommended.\n"
     ]
    },
    {
     "ename": "RuntimeError",
     "evalue": "At least one of TensorFlow 2.0 or PyTorch should be installed. To install TensorFlow 2.0, read the instructions at https://www.tensorflow.org/install/ To install PyTorch, read the instructions at https://pytorch.org/.",
     "output_type": "error",
     "traceback": [
      "\u001B[1;31m---------------------------------------------------------------------------\u001B[0m",
      "\u001B[1;31mRuntimeError\u001B[0m                              Traceback (most recent call last)",
      "Cell \u001B[1;32mIn[6], line 3\u001B[0m\n\u001B[0;32m      1\u001B[0m \u001B[38;5;28;01mfrom\u001B[39;00m \u001B[38;5;21;01mtransformers\u001B[39;00m \u001B[38;5;28;01mimport\u001B[39;00m pipeline\n\u001B[1;32m----> 3\u001B[0m classifier \u001B[38;5;241m=\u001B[39m \u001B[43mpipeline\u001B[49m\u001B[43m(\u001B[49m\u001B[38;5;124;43m\"\u001B[39;49m\u001B[38;5;124;43msentiment-analysis\u001B[39;49m\u001B[38;5;124;43m\"\u001B[39;49m\u001B[43m)\u001B[49m\n\u001B[0;32m      5\u001B[0m \u001B[38;5;28;01mdef\u001B[39;00m \u001B[38;5;21msentiment_determinator\u001B[39m(message):\n\u001B[0;32m      6\u001B[0m     sentiment \u001B[38;5;241m=\u001B[39m classifier(message)\n",
      "File \u001B[1;32m~\\PRACTICE-WebScraper\\new_venv\\Lib\\site-packages\\transformers\\pipelines\\__init__.py:754\u001B[0m, in \u001B[0;36mpipeline\u001B[1;34m(task, model, config, tokenizer, feature_extractor, framework, revision, use_fast, use_auth_token, device, device_map, torch_dtype, trust_remote_code, model_kwargs, pipeline_class, **kwargs)\u001B[0m\n\u001B[0;32m    750\u001B[0m \u001B[38;5;66;03m# Infer the framework from the model\u001B[39;00m\n\u001B[0;32m    751\u001B[0m \u001B[38;5;66;03m# Forced if framework already defined, inferred if it's None\u001B[39;00m\n\u001B[0;32m    752\u001B[0m \u001B[38;5;66;03m# Will load the correct model if possible\u001B[39;00m\n\u001B[0;32m    753\u001B[0m model_classes \u001B[38;5;241m=\u001B[39m {\u001B[38;5;124m\"\u001B[39m\u001B[38;5;124mtf\u001B[39m\u001B[38;5;124m\"\u001B[39m: targeted_task[\u001B[38;5;124m\"\u001B[39m\u001B[38;5;124mtf\u001B[39m\u001B[38;5;124m\"\u001B[39m], \u001B[38;5;124m\"\u001B[39m\u001B[38;5;124mpt\u001B[39m\u001B[38;5;124m\"\u001B[39m: targeted_task[\u001B[38;5;124m\"\u001B[39m\u001B[38;5;124mpt\u001B[39m\u001B[38;5;124m\"\u001B[39m]}\n\u001B[1;32m--> 754\u001B[0m framework, model \u001B[38;5;241m=\u001B[39m \u001B[43minfer_framework_load_model\u001B[49m\u001B[43m(\u001B[49m\n\u001B[0;32m    755\u001B[0m \u001B[43m    \u001B[49m\u001B[43mmodel\u001B[49m\u001B[43m,\u001B[49m\n\u001B[0;32m    756\u001B[0m \u001B[43m    \u001B[49m\u001B[43mmodel_classes\u001B[49m\u001B[38;5;241;43m=\u001B[39;49m\u001B[43mmodel_classes\u001B[49m\u001B[43m,\u001B[49m\n\u001B[0;32m    757\u001B[0m \u001B[43m    \u001B[49m\u001B[43mconfig\u001B[49m\u001B[38;5;241;43m=\u001B[39;49m\u001B[43mconfig\u001B[49m\u001B[43m,\u001B[49m\n\u001B[0;32m    758\u001B[0m \u001B[43m    \u001B[49m\u001B[43mframework\u001B[49m\u001B[38;5;241;43m=\u001B[39;49m\u001B[43mframework\u001B[49m\u001B[43m,\u001B[49m\n\u001B[0;32m    759\u001B[0m \u001B[43m    \u001B[49m\u001B[43mtask\u001B[49m\u001B[38;5;241;43m=\u001B[39;49m\u001B[43mtask\u001B[49m\u001B[43m,\u001B[49m\n\u001B[0;32m    760\u001B[0m \u001B[43m    \u001B[49m\u001B[38;5;241;43m*\u001B[39;49m\u001B[38;5;241;43m*\u001B[39;49m\u001B[43mhub_kwargs\u001B[49m\u001B[43m,\u001B[49m\n\u001B[0;32m    761\u001B[0m \u001B[43m    \u001B[49m\u001B[38;5;241;43m*\u001B[39;49m\u001B[38;5;241;43m*\u001B[39;49m\u001B[43mmodel_kwargs\u001B[49m\u001B[43m,\u001B[49m\n\u001B[0;32m    762\u001B[0m \u001B[43m\u001B[49m\u001B[43m)\u001B[49m\n\u001B[0;32m    764\u001B[0m model_config \u001B[38;5;241m=\u001B[39m model\u001B[38;5;241m.\u001B[39mconfig\n\u001B[0;32m    765\u001B[0m hub_kwargs[\u001B[38;5;124m\"\u001B[39m\u001B[38;5;124m_commit_hash\u001B[39m\u001B[38;5;124m\"\u001B[39m] \u001B[38;5;241m=\u001B[39m model\u001B[38;5;241m.\u001B[39mconfig\u001B[38;5;241m.\u001B[39m_commit_hash\n",
      "File \u001B[1;32m~\\PRACTICE-WebScraper\\new_venv\\Lib\\site-packages\\transformers\\pipelines\\base.py:209\u001B[0m, in \u001B[0;36minfer_framework_load_model\u001B[1;34m(model, config, model_classes, task, framework, **model_kwargs)\u001B[0m\n\u001B[0;32m    183\u001B[0m \u001B[38;5;250m\u001B[39m\u001B[38;5;124;03m\"\"\"\u001B[39;00m\n\u001B[0;32m    184\u001B[0m \u001B[38;5;124;03mSelect framework (TensorFlow or PyTorch) to use from the `model` passed. Returns a tuple (framework, model).\u001B[39;00m\n\u001B[0;32m    185\u001B[0m \n\u001B[1;32m   (...)\u001B[0m\n\u001B[0;32m    206\u001B[0m \u001B[38;5;124;03m    `Tuple`: A tuple framework, model.\u001B[39;00m\n\u001B[0;32m    207\u001B[0m \u001B[38;5;124;03m\"\"\"\u001B[39;00m\n\u001B[0;32m    208\u001B[0m \u001B[38;5;28;01mif\u001B[39;00m \u001B[38;5;129;01mnot\u001B[39;00m is_tf_available() \u001B[38;5;129;01mand\u001B[39;00m \u001B[38;5;129;01mnot\u001B[39;00m is_torch_available():\n\u001B[1;32m--> 209\u001B[0m     \u001B[38;5;28;01mraise\u001B[39;00m \u001B[38;5;167;01mRuntimeError\u001B[39;00m(\n\u001B[0;32m    210\u001B[0m         \u001B[38;5;124m\"\u001B[39m\u001B[38;5;124mAt least one of TensorFlow 2.0 or PyTorch should be installed. \u001B[39m\u001B[38;5;124m\"\u001B[39m\n\u001B[0;32m    211\u001B[0m         \u001B[38;5;124m\"\u001B[39m\u001B[38;5;124mTo install TensorFlow 2.0, read the instructions at https://www.tensorflow.org/install/ \u001B[39m\u001B[38;5;124m\"\u001B[39m\n\u001B[0;32m    212\u001B[0m         \u001B[38;5;124m\"\u001B[39m\u001B[38;5;124mTo install PyTorch, read the instructions at https://pytorch.org/.\u001B[39m\u001B[38;5;124m\"\u001B[39m\n\u001B[0;32m    213\u001B[0m     )\n\u001B[0;32m    214\u001B[0m \u001B[38;5;28;01mif\u001B[39;00m \u001B[38;5;28misinstance\u001B[39m(model, \u001B[38;5;28mstr\u001B[39m):\n\u001B[0;32m    215\u001B[0m     model_kwargs[\u001B[38;5;124m\"\u001B[39m\u001B[38;5;124m_from_pipeline\u001B[39m\u001B[38;5;124m\"\u001B[39m] \u001B[38;5;241m=\u001B[39m task\n",
      "\u001B[1;31mRuntimeError\u001B[0m: At least one of TensorFlow 2.0 or PyTorch should be installed. To install TensorFlow 2.0, read the instructions at https://www.tensorflow.org/install/ To install PyTorch, read the instructions at https://pytorch.org/."
     ]
    }
   ],
   "source": [
    "from transformers import pipeline\n",
    "\n",
    "classifier = pipeline(\"sentiment-analysis\")\n",
    "\n",
    "def sentiment_determinator(message):\n",
    "    sentiment = classifier(message)\n",
    "    return sentiment[0]['label']\n",
    "\n",
    "\n",
    "def apply_sentiment_determinator(row):\n",
    "    sentiment = sentiment_determinator(row[\"content\"])\n",
    "    return sentiment\n",
    "\n",
    "# apply the function to each cell in the \"content\" column and store the result in the \"sentiment\" column\n",
    "df_messages[\"sentiment\"] = df_messages.apply(apply_sentiment_determinator, axis=1)\n",
    "\n",
    "df_messages"
   ],
   "metadata": {
    "collapsed": false
   }
  },
  {
   "cell_type": "code",
   "execution_count": null,
   "outputs": [],
   "source": [],
   "metadata": {
    "collapsed": false
   }
  }
 ],
 "metadata": {
  "kernelspec": {
   "display_name": "Python 3",
   "language": "python",
   "name": "python3"
  },
  "language_info": {
   "codemirror_mode": {
    "name": "ipython",
    "version": 2
   },
   "file_extension": ".py",
   "mimetype": "text/x-python",
   "name": "python",
   "nbconvert_exporter": "python",
   "pygments_lexer": "ipython2",
   "version": "2.7.6"
  }
 },
 "nbformat": 4,
 "nbformat_minor": 0
}
