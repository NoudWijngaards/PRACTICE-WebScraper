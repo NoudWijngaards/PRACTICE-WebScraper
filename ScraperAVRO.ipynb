{
 "cells": [
  {
   "cell_type": "code",
   "execution_count": 60,
   "outputs": [
    {
     "data": {
      "text/plain": "                                                                                                 link  \\\nDe energiemarkt en salderen: hoe komt de prijsv...  https://radar.avrotros.nl/forum/energie-f51/de...   \nWoningen met verkeerde energielabels, wie heeft...  https://radar.avrotros.nl/forum/energie-f51/wo...   \nEnergieleverancier kiezen met zonnepanelen          https://radar.avrotros.nl/forum/energie-f51/en...   \nHogere tarieven Vattenfall ontlopen                 https://radar.avrotros.nl/forum/energie-f51/ho...   \nEssent - energiebelasting teruggave/aanmerking ...  https://radar.avrotros.nl/forum/energie-f51/es...   \n...                                                                                               ...   \nVattenfall wil Warmtelink plaatsen voor digitaa...  https://radar.avrotros.nl/forum/energie-f51/va...   \nEnergierekening opsplitsen in Netbeheer en Leve...  https://radar.avrotros.nl/forum/energie-f51/en...   \nFaillisement Energie Welkom: wat kan / mag ik?      https://radar.avrotros.nl/forum/energie-f51/fa...   \nNa failliete Welkom Energie nu de rekening van ...  https://radar.avrotros.nl/forum/energie-f51/na...   \nPrijsverhoging gas/stadsverwarming                  https://radar.avrotros.nl/forum/energie-f51/pr...   \n\n                                                                 date    code  \\\nDe energiemarkt en salderen: hoe komt de prijsv...  22 okt 2021 14:18  197725   \nWoningen met verkeerde energielabels, wie heeft...  13 feb 2023 19:48  200283   \nEnergieleverancier kiezen met zonnepanelen          05 jan 2021 16:57  195768   \nHogere tarieven Vattenfall ontlopen                 23 dec 2022 16:42  199987   \nEssent - energiebelasting teruggave/aanmerking ...  10 feb 2023 09:38  200251   \n...                                                               ...     ...   \nVattenfall wil Warmtelink plaatsen voor digitaa...  02 jun 2021 17:18  196961   \nEnergierekening opsplitsen in Netbeheer en Leve...  03 mar 2022 09:41  198540   \nFaillisement Energie Welkom: wat kan / mag ik?      15 nov 2021 09:41  197882   \nNa failliete Welkom Energie nu de rekening van ...  17 dec 2021 13:29  198056   \nPrijsverhoging gas/stadsverwarming                  13 jan 2022 15:45  198207   \n\n                                                    reactions  \nDe energiemarkt en salderen: hoe komt de prijsv...         48  \nWoningen met verkeerde energielabels, wie heeft...         15  \nEnergieleverancier kiezen met zonnepanelen                100  \nHogere tarieven Vattenfall ontlopen                         9  \nEssent - energiebelasting teruggave/aanmerking ...          5  \n...                                                       ...  \nVattenfall wil Warmtelink plaatsen voor digitaa...         47  \nEnergierekening opsplitsen in Netbeheer en Leve...         17  \nFaillisement Energie Welkom: wat kan / mag ik?             31  \nNa failliete Welkom Energie nu de rekening van ...        176  \nPrijsverhoging gas/stadsverwarming                         12  \n\n[100 rows x 4 columns]",
      "text/html": "<div>\n<style scoped>\n    .dataframe tbody tr th:only-of-type {\n        vertical-align: middle;\n    }\n\n    .dataframe tbody tr th {\n        vertical-align: top;\n    }\n\n    .dataframe thead th {\n        text-align: right;\n    }\n</style>\n<table border=\"1\" class=\"dataframe\">\n  <thead>\n    <tr style=\"text-align: right;\">\n      <th></th>\n      <th>link</th>\n      <th>date</th>\n      <th>code</th>\n      <th>reactions</th>\n    </tr>\n  </thead>\n  <tbody>\n    <tr>\n      <th>De energiemarkt en salderen: hoe komt de prijsvorming tot stand?</th>\n      <td>https://radar.avrotros.nl/forum/energie-f51/de...</td>\n      <td>22 okt 2021 14:18</td>\n      <td>197725</td>\n      <td>48</td>\n    </tr>\n    <tr>\n      <th>Woningen met verkeerde energielabels, wie heeft daar ervaring mee?</th>\n      <td>https://radar.avrotros.nl/forum/energie-f51/wo...</td>\n      <td>13 feb 2023 19:48</td>\n      <td>200283</td>\n      <td>15</td>\n    </tr>\n    <tr>\n      <th>Energieleverancier kiezen met zonnepanelen</th>\n      <td>https://radar.avrotros.nl/forum/energie-f51/en...</td>\n      <td>05 jan 2021 16:57</td>\n      <td>195768</td>\n      <td>100</td>\n    </tr>\n    <tr>\n      <th>Hogere tarieven Vattenfall ontlopen</th>\n      <td>https://radar.avrotros.nl/forum/energie-f51/ho...</td>\n      <td>23 dec 2022 16:42</td>\n      <td>199987</td>\n      <td>9</td>\n    </tr>\n    <tr>\n      <th>Essent - energiebelasting teruggave/aanmerking woning als \"woonverblijf\"</th>\n      <td>https://radar.avrotros.nl/forum/energie-f51/es...</td>\n      <td>10 feb 2023 09:38</td>\n      <td>200251</td>\n      <td>5</td>\n    </tr>\n    <tr>\n      <th>...</th>\n      <td>...</td>\n      <td>...</td>\n      <td>...</td>\n      <td>...</td>\n    </tr>\n    <tr>\n      <th>Vattenfall wil Warmtelink plaatsen voor digitaal uitlezen verbruik</th>\n      <td>https://radar.avrotros.nl/forum/energie-f51/va...</td>\n      <td>02 jun 2021 17:18</td>\n      <td>196961</td>\n      <td>47</td>\n    </tr>\n    <tr>\n      <th>Energierekening opsplitsen in Netbeheer en Levering</th>\n      <td>https://radar.avrotros.nl/forum/energie-f51/en...</td>\n      <td>03 mar 2022 09:41</td>\n      <td>198540</td>\n      <td>17</td>\n    </tr>\n    <tr>\n      <th>Faillisement Energie Welkom: wat kan / mag ik?</th>\n      <td>https://radar.avrotros.nl/forum/energie-f51/fa...</td>\n      <td>15 nov 2021 09:41</td>\n      <td>197882</td>\n      <td>31</td>\n    </tr>\n    <tr>\n      <th>Na failliete Welkom Energie nu de rekening van Eneco voor november, wat nu?</th>\n      <td>https://radar.avrotros.nl/forum/energie-f51/na...</td>\n      <td>17 dec 2021 13:29</td>\n      <td>198056</td>\n      <td>176</td>\n    </tr>\n    <tr>\n      <th>Prijsverhoging gas/stadsverwarming</th>\n      <td>https://radar.avrotros.nl/forum/energie-f51/pr...</td>\n      <td>13 jan 2022 15:45</td>\n      <td>198207</td>\n      <td>12</td>\n    </tr>\n  </tbody>\n</table>\n<p>100 rows × 4 columns</p>\n</div>"
     },
     "execution_count": 60,
     "metadata": {},
     "output_type": "execute_result"
    }
   ],
   "source": [
    "from bs4 import BeautifulSoup\n",
    "import requests\n",
    "import re\n",
    "\n",
    "# Web scraping from the radar AvroTros website\n",
    "search_link = \"https://radar.avrotros.nl/forum/energie-f51/index-s\"\n",
    "\n",
    "forum_url = BeautifulSoup(requests.get(search_link).content, 'html.parser')\n",
    "\n",
    "page_index = 0\n",
    "\n",
    "dict_topics = {}\n",
    "\n",
    "for i in range(0, 100, 25):\n",
    "    page_index = i\n",
    "\n",
    "    forum_url = BeautifulSoup(requests.get(search_link + str(page_index) + '.html').content, 'html.parser')\n",
    "\n",
    "    items = forum_url.find_all(class_=lambda x: x and x.startswith(\"row bg\"))\n",
    "\n",
    "    for item in items:\n",
    "        title = item.find('a', class_='topictitle')\n",
    "        topic_title = title.text\n",
    "\n",
    "        topic_link = \"https://radar.avrotros.nl/forum\" + \"/\" + title['href'].lstrip('./..').split('.html')[0] + '.html'\n",
    "\n",
    "        date_element = item.find(\"div\", class_=\"topic-poster responsive-hide left-box\").find(\"time\")\n",
    "        date = date_element.text\n",
    "\n",
    "        code_link = topic_link[-11:]\n",
    "        code = code_link[:6]\n",
    "\n",
    "        reactions_element = item.find(\"dd\", class_=\"posts\")\n",
    "        reactions = reactions_element.text\n",
    "        # Remove the 'Reacties' text\n",
    "        reactions = reactions[:-9]\n",
    "        reactions = int(reactions)\n",
    "\n",
    "        dict_topics[topic_title] = topic_link, date, code, reactions\n",
    "\n",
    "# Convert dict to dataframe\n",
    "import pandas as pd\n",
    "\n",
    "df_topics = pd.DataFrame.from_dict(dict_topics, orient='index', columns=['link', 'date', 'code', 'reactions'])\n",
    "\n",
    "df_topics"
   ],
   "metadata": {
    "collapsed": false,
    "pycharm": {
     "name": "#%%\n"
    }
   }
  },
  {
   "cell_type": "code",
   "execution_count": 71,
   "outputs": [
    {
     "name": "stdout",
     "output_type": "stream",
     "text": [
      "https://radar.avrotros.nl/forum/viewtopic.php?t=197725&start=0\n",
      "https://radar.avrotros.nl/forum/viewtopic.php?t=197725&start=20\n",
      "https://radar.avrotros.nl/forum/viewtopic.php?t=197725&start=40\n",
      "https://radar.avrotros.nl/forum/viewtopic.php?t=200283&start=0\n",
      "2021-10-22 14:32:00\n"
     ]
    },
    {
     "data": {
      "text/plain": "                                                topic  \\\n1   De energiemarkt en salderen: hoe komt de prijs...   \n2   De energiemarkt en salderen: hoe komt de prijs...   \n3   De energiemarkt en salderen: hoe komt de prijs...   \n4   De energiemarkt en salderen: hoe komt de prijs...   \n5   De energiemarkt en salderen: hoe komt de prijs...   \n..                                                ...   \n61  Woningen met verkeerde energielabels, wie heef...   \n62  Woningen met verkeerde energielabels, wie heef...   \n63  Woningen met verkeerde energielabels, wie heef...   \n64  Woningen met verkeerde energielabels, wie heef...   \n65  Woningen met verkeerde energielabels, wie heef...   \n\n                                              content                date  \n1   Goedendag,In navolging van het inmiddels geslo... 2021-10-22 14:18:00  \n2   3.U verbruikt en produceert stroomDezelfde pri... 2021-10-22 14:52:00  \n3                              Heel leerzaam artikel. 2021-10-22 17:23:00  \n4                    Dank voor de uitgebreide uitleg. 2021-10-22 17:57:00  \n5   Ik heb de mods gevraagd dit topic sticky te ma... 2021-10-22 18:11:00  \n..                                                ...                 ...  \n61  Helaas blijkt maar weer wat in theorie de perf... 2023-02-14 09:42:00  \n62  Jouw jaren '90 woning is sowieso al veel beter... 2023-02-14 09:46:00  \n63  Volgens mij had ik het over dat label. Niet we... 2023-02-14 10:35:00  \n64  Wat voor verwarming heb je? Vanaf half jaren 9... 2023-02-14 11:05:00  \n65  Gewone CV-ketel, geen idee hoe oud. Wel een wa... 2023-02-14 11:17:00  \n\n[65 rows x 3 columns]",
      "text/html": "<div>\n<style scoped>\n    .dataframe tbody tr th:only-of-type {\n        vertical-align: middle;\n    }\n\n    .dataframe tbody tr th {\n        vertical-align: top;\n    }\n\n    .dataframe thead th {\n        text-align: right;\n    }\n</style>\n<table border=\"1\" class=\"dataframe\">\n  <thead>\n    <tr style=\"text-align: right;\">\n      <th></th>\n      <th>topic</th>\n      <th>content</th>\n      <th>date</th>\n    </tr>\n  </thead>\n  <tbody>\n    <tr>\n      <th>1</th>\n      <td>De energiemarkt en salderen: hoe komt de prijs...</td>\n      <td>Goedendag,In navolging van het inmiddels geslo...</td>\n      <td>2021-10-22 14:18:00</td>\n    </tr>\n    <tr>\n      <th>2</th>\n      <td>De energiemarkt en salderen: hoe komt de prijs...</td>\n      <td>3.U verbruikt en produceert stroomDezelfde pri...</td>\n      <td>2021-10-22 14:52:00</td>\n    </tr>\n    <tr>\n      <th>3</th>\n      <td>De energiemarkt en salderen: hoe komt de prijs...</td>\n      <td>Heel leerzaam artikel.</td>\n      <td>2021-10-22 17:23:00</td>\n    </tr>\n    <tr>\n      <th>4</th>\n      <td>De energiemarkt en salderen: hoe komt de prijs...</td>\n      <td>Dank voor de uitgebreide uitleg.</td>\n      <td>2021-10-22 17:57:00</td>\n    </tr>\n    <tr>\n      <th>5</th>\n      <td>De energiemarkt en salderen: hoe komt de prijs...</td>\n      <td>Ik heb de mods gevraagd dit topic sticky te ma...</td>\n      <td>2021-10-22 18:11:00</td>\n    </tr>\n    <tr>\n      <th>...</th>\n      <td>...</td>\n      <td>...</td>\n      <td>...</td>\n    </tr>\n    <tr>\n      <th>61</th>\n      <td>Woningen met verkeerde energielabels, wie heef...</td>\n      <td>Helaas blijkt maar weer wat in theorie de perf...</td>\n      <td>2023-02-14 09:42:00</td>\n    </tr>\n    <tr>\n      <th>62</th>\n      <td>Woningen met verkeerde energielabels, wie heef...</td>\n      <td>Jouw jaren '90 woning is sowieso al veel beter...</td>\n      <td>2023-02-14 09:46:00</td>\n    </tr>\n    <tr>\n      <th>63</th>\n      <td>Woningen met verkeerde energielabels, wie heef...</td>\n      <td>Volgens mij had ik het over dat label. Niet we...</td>\n      <td>2023-02-14 10:35:00</td>\n    </tr>\n    <tr>\n      <th>64</th>\n      <td>Woningen met verkeerde energielabels, wie heef...</td>\n      <td>Wat voor verwarming heb je? Vanaf half jaren 9...</td>\n      <td>2023-02-14 11:05:00</td>\n    </tr>\n    <tr>\n      <th>65</th>\n      <td>Woningen met verkeerde energielabels, wie heef...</td>\n      <td>Gewone CV-ketel, geen idee hoe oud. Wel een wa...</td>\n      <td>2023-02-14 11:17:00</td>\n    </tr>\n  </tbody>\n</table>\n<p>65 rows × 3 columns</p>\n</div>"
     },
     "execution_count": 71,
     "metadata": {},
     "output_type": "execute_result"
    }
   ],
   "source": [
    "# Get first ten rows within df\n",
    "topics = df_topics.head(2)\n",
    "\n",
    "\n",
    "dict_messages = {}\n",
    "message_id = 1\n",
    "\n",
    "for topic, row in topics.iterrows():\n",
    "    page_index = 0\n",
    "    while True:\n",
    "        if page_index > row['reactions']:\n",
    "            break\n",
    "        page_link = \"https://radar.avrotros.nl/forum/viewtopic.php?t=\" + row['code'] + \"&start=\" + str(page_index)\n",
    "        print(page_link)\n",
    "        page = requests.get(page_link)\n",
    "        if page.status_code != 200:\n",
    "            break\n",
    "        soup = BeautifulSoup(page.content, 'html.parser')\n",
    "        posts = soup.find_all('div', class_=lambda x: x and x.startswith(\"post has-profile bg\"))\n",
    "        for post in posts:\n",
    "            content = post.find(\"div\", class_=\"content\")\n",
    "            # Remove blockquotes to prevent double counting\n",
    "            for blockquote in content.find_all(\"blockquote\"):\n",
    "                blockquote.decompose()\n",
    "            content = content.text\n",
    "\n",
    "            date = post.find('p', class_=\"author\").find('time').text\n",
    "\n",
    "            dict_messages[message_id] = topic, content, date\n",
    "            message_id += 1\n",
    "\n",
    "        page_index += 20\n",
    "\n",
    "\n",
    "df_messages = pd.DataFrame.from_dict(dict_messages, orient='index', columns=['topic', 'content', 'date'])\n",
    "\n",
    "# Removing newlines and tabs from content cells.\n",
    "df_messages['content'] = df_messages['content'].str.replace('\\n', '')\n",
    "df_messages['content'] = df_messages['content'].str.replace('\\t', '')\n",
    "\n",
    "# Convert dates to datetime\n",
    "from datetime import datetime\n",
    "import locale\n",
    "locale.setlocale(locale.LC_ALL, \"nl_NL\")\n",
    "\n",
    "df_messages[\"date\"] = df_messages[\"date\"].str.split(\" \").apply(lambda x: \" \".join([i.capitalize() for i in x]))\n",
    "\n",
    "print(datetime.strptime(\"22 Okt 2021 14:32\", \"%d %b %Y %H:%M\"))\n",
    "\n",
    "df_messages['date'] = df_messages['date'].apply(lambda x: datetime.strptime(x, \"%d %b %Y %H:%M\"))\n",
    "\n",
    "df_messages\n",
    "\n"
   ],
   "metadata": {
    "collapsed": false,
    "pycharm": {
     "name": "#%%\n"
    }
   }
  }
 ],
 "metadata": {
  "kernelspec": {
   "display_name": "Python 3",
   "language": "python",
   "name": "python3"
  },
  "language_info": {
   "codemirror_mode": {
    "name": "ipython",
    "version": 2
   },
   "file_extension": ".py",
   "mimetype": "text/x-python",
   "name": "python",
   "nbconvert_exporter": "python",
   "pygments_lexer": "ipython2",
   "version": "2.7.6"
  }
 },
 "nbformat": 4,
 "nbformat_minor": 0
}